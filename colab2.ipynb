{
 "cells": [
  {
   "cell_type": "code",
   "execution_count": 1,
   "id": "83e02a44-555b-4bbc-a86c-a8435dbef110",
   "metadata": {},
   "outputs": [
    {
     "name": "stdout",
     "output_type": "stream",
     "text": [
      "PyTorch has version 1.13.1\n"
     ]
    }
   ],
   "source": [
    "import torch\n",
    "import os\n",
    "print(\"PyTorch has version {}\".format(torch.__version__))"
   ]
  },
  {
   "cell_type": "code",
   "execution_count": 2,
   "id": "1bb28738-4255-4866-ae36-4de33317f2d8",
   "metadata": {},
   "outputs": [
    {
     "name": "stdout",
     "output_type": "stream",
     "text": [
      "Looking in links: https://pytorch-geometric.com/whl/torch-1.9.0+cu111.html\n",
      "Requirement already satisfied: torch-scatter in /Users/akshaj.g/mamba/lib/python3.10/site-packages (2.1.1)\n",
      "Looking in links: https://pytorch-geometric.com/whl/torch-1.9.0+cu111.html\n",
      "Requirement already satisfied: torch-sparse in /Users/akshaj.g/mamba/lib/python3.10/site-packages (0.6.17)\n",
      "Requirement already satisfied: scipy in /Users/akshaj.g/mamba/lib/python3.10/site-packages (from torch-sparse) (1.10.0)\n",
      "Requirement already satisfied: numpy<1.27.0,>=1.19.5 in /Users/akshaj.g/mamba/lib/python3.10/site-packages (from scipy->torch-sparse) (1.24.1)\n",
      "Requirement already satisfied: torch-geometric in /Users/akshaj.g/mamba/lib/python3.10/site-packages (2.3.1)\n",
      "Requirement already satisfied: tqdm in /Users/akshaj.g/mamba/lib/python3.10/site-packages (from torch-geometric) (4.64.1)\n",
      "Requirement already satisfied: numpy in /Users/akshaj.g/mamba/lib/python3.10/site-packages (from torch-geometric) (1.24.1)\n",
      "Requirement already satisfied: scipy in /Users/akshaj.g/mamba/lib/python3.10/site-packages (from torch-geometric) (1.10.0)\n",
      "Requirement already satisfied: jinja2 in /Users/akshaj.g/mamba/lib/python3.10/site-packages (from torch-geometric) (3.1.2)\n",
      "Requirement already satisfied: requests in /Users/akshaj.g/mamba/lib/python3.10/site-packages (from torch-geometric) (2.28.1)\n",
      "Requirement already satisfied: pyparsing in /Users/akshaj.g/mamba/lib/python3.10/site-packages (from torch-geometric) (3.0.9)\n",
      "Requirement already satisfied: scikit-learn in /Users/akshaj.g/mamba/lib/python3.10/site-packages (from torch-geometric) (1.2.0)\n",
      "Requirement already satisfied: psutil>=5.8.0 in /Users/akshaj.g/mamba/lib/python3.10/site-packages (from torch-geometric) (5.9.4)\n",
      "Requirement already satisfied: MarkupSafe>=2.0 in /Users/akshaj.g/mamba/lib/python3.10/site-packages (from jinja2->torch-geometric) (2.1.1)\n",
      "Requirement already satisfied: charset-normalizer<3,>=2 in /Users/akshaj.g/mamba/lib/python3.10/site-packages (from requests->torch-geometric) (2.1.1)\n",
      "Requirement already satisfied: idna<4,>=2.5 in /Users/akshaj.g/mamba/lib/python3.10/site-packages (from requests->torch-geometric) (3.4)\n",
      "Requirement already satisfied: urllib3<1.27,>=1.21.1 in /Users/akshaj.g/mamba/lib/python3.10/site-packages (from requests->torch-geometric) (1.26.11)\n",
      "Requirement already satisfied: certifi>=2017.4.17 in /Users/akshaj.g/mamba/lib/python3.10/site-packages (from requests->torch-geometric) (2022.12.7)\n",
      "Requirement already satisfied: joblib>=1.1.1 in /Users/akshaj.g/mamba/lib/python3.10/site-packages (from scikit-learn->torch-geometric) (1.2.0)\n",
      "Requirement already satisfied: threadpoolctl>=2.0.0 in /Users/akshaj.g/mamba/lib/python3.10/site-packages (from scikit-learn->torch-geometric) (3.1.0)\n",
      "Requirement already satisfied: ogb in /Users/akshaj.g/mamba/lib/python3.10/site-packages (1.3.6)\n",
      "Requirement already satisfied: torch>=1.6.0 in /Users/akshaj.g/mamba/lib/python3.10/site-packages (from ogb) (1.13.1)\n",
      "Requirement already satisfied: numpy>=1.16.0 in /Users/akshaj.g/mamba/lib/python3.10/site-packages (from ogb) (1.24.1)\n",
      "Requirement already satisfied: tqdm>=4.29.0 in /Users/akshaj.g/mamba/lib/python3.10/site-packages (from ogb) (4.64.1)\n",
      "Requirement already satisfied: scikit-learn>=0.20.0 in /Users/akshaj.g/mamba/lib/python3.10/site-packages (from ogb) (1.2.0)\n",
      "Requirement already satisfied: pandas>=0.24.0 in /Users/akshaj.g/mamba/lib/python3.10/site-packages (from ogb) (1.5.2)\n",
      "Requirement already satisfied: six>=1.12.0 in /Users/akshaj.g/mamba/lib/python3.10/site-packages (from ogb) (1.16.0)\n",
      "Requirement already satisfied: urllib3>=1.24.0 in /Users/akshaj.g/mamba/lib/python3.10/site-packages (from ogb) (1.26.11)\n",
      "Requirement already satisfied: outdated>=0.2.0 in /Users/akshaj.g/mamba/lib/python3.10/site-packages (from ogb) (0.2.2)\n",
      "Requirement already satisfied: setuptools>=44 in /Users/akshaj.g/mamba/lib/python3.10/site-packages (from outdated>=0.2.0->ogb) (65.5.1)\n",
      "Requirement already satisfied: littleutils in /Users/akshaj.g/mamba/lib/python3.10/site-packages (from outdated>=0.2.0->ogb) (0.2.2)\n",
      "Requirement already satisfied: requests in /Users/akshaj.g/mamba/lib/python3.10/site-packages (from outdated>=0.2.0->ogb) (2.28.1)\n",
      "Requirement already satisfied: python-dateutil>=2.8.1 in /Users/akshaj.g/mamba/lib/python3.10/site-packages (from pandas>=0.24.0->ogb) (2.8.2)\n",
      "Requirement already satisfied: pytz>=2020.1 in /Users/akshaj.g/mamba/lib/python3.10/site-packages (from pandas>=0.24.0->ogb) (2022.7)\n",
      "Requirement already satisfied: scipy>=1.3.2 in /Users/akshaj.g/mamba/lib/python3.10/site-packages (from scikit-learn>=0.20.0->ogb) (1.10.0)\n",
      "Requirement already satisfied: joblib>=1.1.1 in /Users/akshaj.g/mamba/lib/python3.10/site-packages (from scikit-learn>=0.20.0->ogb) (1.2.0)\n",
      "Requirement already satisfied: threadpoolctl>=2.0.0 in /Users/akshaj.g/mamba/lib/python3.10/site-packages (from scikit-learn>=0.20.0->ogb) (3.1.0)\n",
      "Requirement already satisfied: typing_extensions in /Users/akshaj.g/mamba/lib/python3.10/site-packages (from torch>=1.6.0->ogb) (4.4.0)\n",
      "Requirement already satisfied: charset-normalizer<3,>=2 in /Users/akshaj.g/mamba/lib/python3.10/site-packages (from requests->outdated>=0.2.0->ogb) (2.1.1)\n",
      "Requirement already satisfied: idna<4,>=2.5 in /Users/akshaj.g/mamba/lib/python3.10/site-packages (from requests->outdated>=0.2.0->ogb) (3.4)\n",
      "Requirement already satisfied: certifi>=2017.4.17 in /Users/akshaj.g/mamba/lib/python3.10/site-packages (from requests->outdated>=0.2.0->ogb) (2022.12.7)\n"
     ]
    }
   ],
   "source": [
    "# Install torch geometric\n",
    "if 'IS_GRADESCOPE_ENV' not in os.environ:\n",
    "  !pip install torch-scatter -f https://pytorch-geometric.com/whl/torch-1.9.0+cu111.html\n",
    "  !pip install torch-sparse -f https://pytorch-geometric.com/whl/torch-1.9.0+cu111.html\n",
    "  !pip install torch-geometric\n",
    "  !pip install ogb"
   ]
  },
  {
   "cell_type": "code",
   "execution_count": 3,
   "id": "e732e844-9b95-43cb-8a50-cef85eaeb214",
   "metadata": {},
   "outputs": [
    {
     "name": "stdout",
     "output_type": "stream",
     "text": [
      "ENZYMES(600)\n"
     ]
    }
   ],
   "source": [
    "from torch_geometric.datasets import TUDataset\n",
    "\n",
    "if 'IS_GRADESCOPE_ENV' not in os.environ:\n",
    "  root = './enzymes'\n",
    "  name = 'ENZYMES'\n",
    "\n",
    "  # The ENZYMES dataset\n",
    "  pyg_dataset= TUDataset(root, name)\n",
    "\n",
    "  # You will find that there are 600 graphs in this dataset\n",
    "  print(pyg_dataset)"
   ]
  },
  {
   "cell_type": "code",
   "execution_count": 4,
   "id": "b0df882e-579f-4776-8fcf-bcae90963c03",
   "metadata": {},
   "outputs": [
    {
     "name": "stdout",
     "output_type": "stream",
     "text": [
      "ENZYMES dataset has 6 classes\n",
      "ENZYMES dataset has 3 features\n"
     ]
    }
   ],
   "source": [
    "def get_num_classes(pyg_dataset):\n",
    "  # TODO: Implement a function that takes a PyG dataset object\n",
    "  # and returns the number of classes for that dataset.\n",
    "\n",
    "  num_classes = 0\n",
    "\n",
    "  ############# Your code here ############\n",
    "  ## (~1 line of code)\n",
    "  ## Note\n",
    "  ## 1. Colab autocomplete functionality might be useful.\n",
    "  num_classes=pyg_dataset.num_classes\n",
    "  #########################################\n",
    "\n",
    "  return num_classes\n",
    "\n",
    "def get_num_features(pyg_dataset):\n",
    "  # TODO: Implement a function that takes a PyG dataset object\n",
    "  # and returns the number of features for that dataset.\n",
    "\n",
    "  num_features = 0\n",
    "\n",
    "  ############# Your code here ############\n",
    "  ## (~1 line of code)\n",
    "  ## Note\n",
    "  ## 1. Colab autocomplete functionality might be useful.\n",
    "  num_features=pyg_dataset.num_features\n",
    "  #########################################\n",
    "\n",
    "  return num_features\n",
    "\n",
    "if 'IS_GRADESCOPE_ENV' not in os.environ:\n",
    "  num_classes = get_num_classes(pyg_dataset)\n",
    "  num_features = get_num_features(pyg_dataset)\n",
    "  print(\"{} dataset has {} classes\".format(name, num_classes))\n",
    "  print(\"{} dataset has {} features\".format(name, num_features))"
   ]
  },
  {
   "cell_type": "code",
   "execution_count": 5,
   "id": "d13a1941-2e90-4542-8ddd-cbbd68a2fc39",
   "metadata": {},
   "outputs": [
    {
     "name": "stdout",
     "output_type": "stream",
     "text": [
      "106\n"
     ]
    }
   ],
   "source": [
    "graph_0 = pyg_dataset[200].edge_index.T.shape[0]\n",
    "print(graph_0)"
   ]
  },
  {
   "cell_type": "code",
   "execution_count": 6,
   "id": "562deda7-9eda-4bee-9b63-e689e21aa3f8",
   "metadata": {},
   "outputs": [
    {
     "name": "stdout",
     "output_type": "stream",
     "text": [
      "Data(edge_index=[2, 168], x=[37, 3], y=[1])\n",
      "Graph with index 100 has label tensor([4])\n"
     ]
    }
   ],
   "source": [
    "def get_graph_class(pyg_dataset, idx):\n",
    "  # TODO: Implement a function that takes a PyG dataset object,\n",
    "  # an index of a graph within the dataset, and returns the class/label \n",
    "  # of the graph (as an integer).\n",
    "\n",
    "  label = -1\n",
    "\n",
    "  ############# Your code here ############\n",
    "  ## (~1 line of code)\n",
    "  label=pyg_dataset[idx].y\n",
    "  #########################################\n",
    "\n",
    "  return label\n",
    "\n",
    "# Here pyg_dataset is a dataset for graph classification\n",
    "if 'IS_GRADESCOPE_ENV' not in os.environ:\n",
    "  graph_0 = pyg_dataset[0]\n",
    "  print(graph_0)\n",
    "  idx = 100\n",
    "  label = get_graph_class(pyg_dataset, idx)\n",
    "  print('Graph with index {} has label {}'.format(idx, label))"
   ]
  },
  {
   "cell_type": "code",
   "execution_count": 7,
   "id": "917fb1b7-acc3-48e1-b003-fc074f78a2ae",
   "metadata": {},
   "outputs": [
    {
     "name": "stdout",
     "output_type": "stream",
     "text": [
      "Graph with index 200 has 106 edges\n"
     ]
    }
   ],
   "source": [
    "def get_graph_num_edges(pyg_dataset, idx):\n",
    "  # TODO: Implement a function that takes a PyG dataset object,\n",
    "  # the index of a graph in the dataset, and returns the number of \n",
    "  # edges in the graph (as an integer). You should not count an edge \n",
    "  # twice if the graph is undirected. For example, in an undirected \n",
    "  # graph G, if two nodes v and u are connected by an edge, this edge\n",
    "  # should only be counted once.\n",
    "\n",
    "  num_edges = 0\n",
    "\n",
    "  ############# Your code here ############\n",
    "  ## Note:\n",
    "  ## 1. You can't return the data.num_edges directly\n",
    "  ## 2. We assume the graph is undirected\n",
    "  ## 3. Look at the PyG dataset built in functions\n",
    "  ## (~4 lines of code)\n",
    "  num_edges = pyg_dataset[idx].edge_index.T.shape[0]\n",
    "  #########################################\n",
    "\n",
    "  return num_edges\n",
    "\n",
    "if 'IS_GRADESCOPE_ENV' not in os.environ:\n",
    "  idx = 200\n",
    "  num_edges = get_graph_num_edges(pyg_dataset, idx)\n",
    "  print('Graph with index {} has {} edges'.format(idx, num_edges))"
   ]
  },
  {
   "cell_type": "code",
   "execution_count": 8,
   "id": "3a32437e-c752-4187-88dd-372f43a35383",
   "metadata": {},
   "outputs": [
    {
     "name": "stdout",
     "output_type": "stream",
     "text": [
      "The ogbn-arxiv dataset has 1 graph\n",
      "Data(num_nodes=169343, x=[169343, 128], node_year=[169343, 1], y=[169343, 1], adj_t=[169343, 169343, nnz=1166243])\n"
     ]
    }
   ],
   "source": [
    "import torch_geometric.transforms as T\n",
    "from ogb.nodeproppred import PygNodePropPredDataset\n",
    "\n",
    "if 'IS_GRADESCOPE_ENV' not in os.environ:\n",
    "  dataset_name = 'ogbn-arxiv'\n",
    "  # Load the dataset and transform it to sparse tensor\n",
    "  dataset = PygNodePropPredDataset(name=dataset_name,\n",
    "                                  transform=T.ToSparseTensor())\n",
    "  print('The {} dataset has {} graph'.format(dataset_name, len(dataset)))\n",
    "\n",
    "  # Extract the graph\n",
    "  data = dataset[0]\n",
    "  print(data)"
   ]
  },
  {
   "cell_type": "code",
   "execution_count": 9,
   "id": "4c5b9cb4-a4a1-49b3-a270-b377b432fce5",
   "metadata": {},
   "outputs": [
    {
     "name": "stdout",
     "output_type": "stream",
     "text": [
      "The graph has 128 features\n"
     ]
    }
   ],
   "source": [
    "def graph_num_features(data):\n",
    "  # TODO: Implement a function that takes a PyG data object,\n",
    "  # and returns the number of features in the graph (as an integer).\n",
    "\n",
    "  num_features = 0\n",
    "\n",
    "  ############# Your code here ############\n",
    "  ## (~1 line of code)\n",
    "  num_features=data.num_features\n",
    "  #########################################\n",
    "\n",
    "  return num_features\n",
    "\n",
    "if 'IS_GRADESCOPE_ENV' not in os.environ:\n",
    "  num_features = graph_num_features(data)\n",
    "  print('The graph has {} features'.format(num_features))"
   ]
  },
  {
   "cell_type": "code",
   "execution_count": 10,
   "id": "cc8bb783-a726-4bdb-a1b6-9069fca78d75",
   "metadata": {},
   "outputs": [
    {
     "name": "stdout",
     "output_type": "stream",
     "text": [
      "1.13.1\n"
     ]
    }
   ],
   "source": [
    "import torch\n",
    "import pandas as pd\n",
    "import torch.nn.functional as F\n",
    "print(torch.__version__)\n",
    "\n",
    "# The PyG built-in GCNConv\n",
    "from torch_geometric.nn import GCNConv\n",
    "\n",
    "import torch_geometric.transforms as T\n",
    "from ogb.nodeproppred import PygNodePropPredDataset, Evaluator"
   ]
  },
  {
   "cell_type": "code",
   "execution_count": 11,
   "id": "2b54fdba-65fb-433c-b42a-d582de589b16",
   "metadata": {
    "tags": []
   },
   "outputs": [
    {
     "name": "stdout",
     "output_type": "stream",
     "text": [
      "Device: cpu\n"
     ]
    }
   ],
   "source": [
    "if 'IS_GRADESCOPE_ENV' not in os.environ:\n",
    "  dataset_name = 'ogbn-arxiv'\n",
    "  dataset = PygNodePropPredDataset(name=dataset_name,\n",
    "                                  transform=T.ToSparseTensor())\n",
    "  data = dataset[0]\n",
    "\n",
    "  # Make the adjacency matrix to symmetric\n",
    "  data.adj_t = data.adj_t.to_symmetric()\n",
    "\n",
    "  device = 'cuda' if torch.cuda.is_available() else 'cpu'\n",
    "\n",
    "  # If you use GPU, the device should be cuda\n",
    "  print('Device: {}'.format(device))\n",
    "\n",
    "  data = data.to(device)\n",
    "  split_idx = dataset.get_idx_split()\n",
    "  train_idx = split_idx['train'].to(device)"
   ]
  },
  {
   "cell_type": "code",
   "execution_count": 12,
   "id": "f666b7f0-9523-4a15-af41-52da4364ce9e",
   "metadata": {},
   "outputs": [
    {
     "name": "stdout",
     "output_type": "stream",
     "text": [
      "169343\n"
     ]
    }
   ],
   "source": [
    "print(data.adj_t.size(1))"
   ]
  },
  {
   "cell_type": "markdown",
   "id": "f4d4dbfb-5e2c-4a22-bd74-bd682ec9bbd5",
   "metadata": {
    "tags": []
   },
   "source": [
    "## GCN Model\n",
    "\n",
    "Now we will implement our GCN model!"
   ]
  },
  {
   "cell_type": "markdown",
   "id": "97deb8a9-ff80-41cd-b5bd-4ac3d3976c4b",
   "metadata": {
    "tags": []
   },
   "source": [
    "Please follow the figure below to implement the `forward` function.\n",
    "\n",
    "\n",
    "![test](https://drive.google.com/uc?id=128AuYAXNXGg7PIhJJ7e420DoPWKb-RtL)"
   ]
  },
  {
   "cell_type": "code",
   "execution_count": 13,
   "id": "cd1bdae6-1c0f-4839-a662-b0346f1622a3",
   "metadata": {},
   "outputs": [],
   "source": [
    "class GCN(torch.nn.Module):\n",
    "    def __init__(self, input_dim, hidden_dim, output_dim, num_layers,\n",
    "                 dropout, return_embeds=False):\n",
    "        # TODO: Implement a function that initializes self.convs, \n",
    "        # self.bns, and self.softmax.\n",
    "\n",
    "        super(GCN, self).__init__()\n",
    "\n",
    "        # A list of GCNConv layers\n",
    "        self.convs = None\n",
    "\n",
    "        # A list of 1D batch normalization layers\n",
    "        self.bns = None\n",
    "\n",
    "        # The log softmax layer\n",
    "        self.softmax = None\n",
    "\n",
    "        ############# Your code here ############\n",
    "        ## Note:\n",
    "        ## 1. You should use torch.nn.ModuleList for self.convs and self.bns\n",
    "        ## 2. self.convs has num_layers GCNConv layers\n",
    "        ## 3. self.bns has num_layers - 1 BatchNorm1d layers\n",
    "        ## 4. You should use torch.nn.LogSoftmax for self.softmax\n",
    "        ## 5. The parameters you can set for GCNConv include 'in_channels' and \n",
    "        ## 'out_channels'. For more information please refer to the documentation:\n",
    "        ## https://pytorch-geometric.readthedocs.io/en/latest/modules/nn.html#torch_geometric.nn.conv.GCNConv\n",
    "        ## 6. The only parameter you need to set for BatchNorm1d is 'num_features'\n",
    "        ## For more information please refer to the documentation: \n",
    "        ## https://pytorch.org/docs/stable/generated/torch.nn.BatchNorm1d.html\n",
    "        ## (~10 lines of code)\n",
    "\n",
    "        self.convs=torch.nn.ModuleList(\n",
    "            [GCNConv(in_channels=input_dim, out_channels=hidden_dim)] +\n",
    "            [GCNConv(in_channels=hidden_dim, out_channels=hidden_dim)                             \n",
    "                for i in range(num_layers-2)] + \n",
    "            [GCNConv(in_channels=hidden_dim, out_channels=output_dim)]    \n",
    "        )\n",
    "        \n",
    "        self.bns = torch.nn.ModuleList([\n",
    "            torch.nn.BatchNorm1d(num_features=hidden_dim) \n",
    "                for i in range(num_layers-1)\n",
    "        ])\n",
    "        \n",
    "        self.softmax=torch.nn.LogSoftmax()\n",
    "        #########################################\n",
    "\n",
    "        # Probability of an element getting zeroed\n",
    "        self.dropout = dropout\n",
    "\n",
    "        # Skip classification layer and return node embeddings\n",
    "        self.return_embeds = return_embeds\n",
    "\n",
    "    def reset_parameters(self):\n",
    "        for conv in self.convs:\n",
    "            conv.reset_parameters()\n",
    "        for bn in self.bns:\n",
    "            bn.reset_parameters()\n",
    "\n",
    "    def forward(self, x, adj_t):\n",
    "        # TODO: Implement a function that takes the feature tensor x and\n",
    "        # edge_index tensor adj_t and returns the output tensor as\n",
    "        # shown in the figure.\n",
    "\n",
    "        out = None\n",
    "\n",
    "        ############# Your code here ############\n",
    "        ## Note:\n",
    "        ## 1. Construct the network as shown in the figure\n",
    "        ## 2. torch.nn.functional.relu and torch.nn.functional.dropout are useful\n",
    "        ## For more information please refer to the documentation:\n",
    "        ## https://pytorch.org/docs/stable/nn.functional.html\n",
    "        ## 3. Don't forget to set F.dropout training to self.training\n",
    "        ## 4. If return_embeds is True, then skip the last softmax layer\n",
    "        ## (~7 lines of code)\n",
    "        # TODO: Implement this function that takes the feature tensor x,\n",
    "        # edge_index tensor adj_t and returns the output tensor as\n",
    "        # shown in the figure.\n",
    "        for i, conv in enumerate(self.convs[:-1]):\n",
    "            bn=self.bns[i]\n",
    "            x_n=conv(x, adj_t)\n",
    "            x_n=F.relu(bn(x_n))\n",
    "            if self.training:\n",
    "                x_n=F.dropout(x_n, p=self.dropout)\n",
    "            x=x_n\n",
    "        x = self.convs[-1](x, adj_t)\n",
    "        out = x if self.return_embeds else self.softmax(x)\n",
    "\n",
    "        #########################################\n",
    "\n",
    "        return out"
   ]
  },
  {
   "cell_type": "code",
   "execution_count": 14,
   "id": "047a1934-ff0c-4c71-bed7-59afff641c7f",
   "metadata": {},
   "outputs": [],
   "source": [
    "def train(model, data, train_idx, optimizer, loss_fn):\n",
    "    # TODO: Implement a function that trains the model by \n",
    "    # using the given optimizer and loss_fn.\n",
    "    model.train()\n",
    "    loss = 0\n",
    "\n",
    "    ############# Your code here ############\n",
    "    ## Note:\n",
    "    ## 1. Zero grad the optimizer\n",
    "    ## 2. Feed the data into the model\n",
    "    ## 3. Slice the model output and label by train_idx\n",
    "    ## 4. Feed the sliced output and label to loss_fn\n",
    "    ## (~4 lines of code)\n",
    "    optimizer.zero_grad(set_to_none=True)\n",
    "    out=model(data.x, data.adj_t)\n",
    "    train_output=out[train_idx] \n",
    "    train_labels=data.y[train_idx] \n",
    "    loss=loss_fn(train_output, train_labels.reshape(-1))\n",
    "    #########################################\n",
    "\n",
    "    loss.backward()\n",
    "    optimizer.step()\n",
    "\n",
    "    return loss.item()"
   ]
  },
  {
   "cell_type": "code",
   "execution_count": 15,
   "id": "555b7215-0b02-4db3-a136-769899a0bdea",
   "metadata": {},
   "outputs": [],
   "source": [
    "# Test function here\n",
    "@torch.no_grad()\n",
    "def test(model, data, split_idx, evaluator, save_model_results=False):\n",
    "    # TODO: Implement a function that tests the model by \n",
    "    # using the given split_idx and evaluator.\n",
    "    model.eval()\n",
    "\n",
    "    # The output of model on all data\n",
    "    out = None\n",
    "\n",
    "    ############# Your code here ############\n",
    "    ## (~1 line of code)\n",
    "    ## Note:\n",
    "    ## 1. No index slicing here\n",
    "    out = model(data.x, data.adj_t)\n",
    "    #########################################\n",
    "\n",
    "    y_pred = out.argmax(dim=-1, keepdim=True)\n",
    "\n",
    "    train_acc = evaluator.eval({\n",
    "        'y_true': data.y[split_idx['train']],\n",
    "        'y_pred': y_pred[split_idx['train']],\n",
    "    })['acc']\n",
    "    valid_acc = evaluator.eval({\n",
    "        'y_true': data.y[split_idx['valid']],\n",
    "        'y_pred': y_pred[split_idx['valid']],\n",
    "    })['acc']\n",
    "    test_acc = evaluator.eval({\n",
    "        'y_true': data.y[split_idx['test']],\n",
    "        'y_pred': y_pred[split_idx['test']],\n",
    "    })['acc']\n",
    "\n",
    "    if save_model_results:\n",
    "      print (\"Saving Model Predictions\")\n",
    "\n",
    "      data = {}\n",
    "      data['y_pred'] = y_pred.view(-1).cpu().detach().numpy()\n",
    "\n",
    "      df = pd.DataFrame(data=data)\n",
    "      # Save locally as csv\n",
    "      df.to_csv('ogbn-arxiv_node.csv', sep=',', index=False)\n",
    "\n",
    "\n",
    "    return train_acc, valid_acc, test_acc"
   ]
  },
  {
   "cell_type": "code",
   "execution_count": 16,
   "id": "9a1beca9-7e53-4cc1-85e4-472fa161973d",
   "metadata": {},
   "outputs": [],
   "source": [
    "# Please do not change the args\n",
    "if 'IS_GRADESCOPE_ENV' not in os.environ:\n",
    "  args = {\n",
    "      'device': device,\n",
    "      'num_layers': 3,\n",
    "      'hidden_dim': 256,\n",
    "      'dropout': 0.5,\n",
    "      'lr': 0.01,\n",
    "      'epochs': 100,\n",
    "  }\n",
    "  args"
   ]
  },
  {
   "cell_type": "code",
   "execution_count": 17,
   "id": "9c62732d-8839-4706-9958-c85e5bcfdc0e",
   "metadata": {},
   "outputs": [],
   "source": [
    "if 'IS_GRADESCOPE_ENV' not in os.environ:\n",
    "  model = GCN(data.num_features, args['hidden_dim'],\n",
    "              dataset.num_classes, args['num_layers'],\n",
    "              args['dropout']).to(device)\n",
    "  evaluator = Evaluator(name='ogbn-arxiv')"
   ]
  },
  {
   "cell_type": "code",
   "execution_count": 18,
   "id": "a477b33c-36f6-4148-aa47-a9af286a7df3",
   "metadata": {},
   "outputs": [
    {
     "name": "stderr",
     "output_type": "stream",
     "text": [
      "/var/folders/_2/2n3n9_3x6ml82z7y8mx8sgbm0000gn/T/ipykernel_70001/1097362303.py:86: UserWarning: Implicit dimension choice for log_softmax has been deprecated. Change the call to include dim=X as an argument.\n",
      "  out = x if self.return_embeds else self.softmax(x)\n"
     ]
    },
    {
     "name": "stdout",
     "output_type": "stream",
     "text": [
      "Epoch: 01, Loss: 4.2336, Train: 27.58%, Valid: 29.91% Test: 26.79%\n",
      "Epoch: 02, Loss: 2.4635, Train: 25.59%, Valid: 24.16% Test: 28.99%\n",
      "Epoch: 03, Loss: 1.9523, Train: 28.82%, Valid: 28.15% Test: 33.05%\n",
      "Epoch: 04, Loss: 1.8117, Train: 36.06%, Valid: 35.23% Test: 40.02%\n",
      "Epoch: 05, Loss: 1.6798, Train: 42.40%, Valid: 48.32% Test: 51.24%\n",
      "Epoch: 06, Loss: 1.5988, Train: 43.43%, Valid: 47.58% Test: 46.06%\n",
      "Epoch: 07, Loss: 1.5382, Train: 42.10%, Valid: 42.66% Test: 40.57%\n",
      "Epoch: 08, Loss: 1.4714, Train: 42.33%, Valid: 41.01% Test: 39.26%\n",
      "Epoch: 09, Loss: 1.4312, Train: 41.98%, Valid: 39.48% Test: 38.77%\n",
      "Epoch: 10, Loss: 1.3972, Train: 42.02%, Valid: 38.42% Test: 38.12%\n",
      "Epoch: 11, Loss: 1.3679, Train: 42.58%, Valid: 38.78% Test: 38.87%\n",
      "Epoch: 12, Loss: 1.3391, Train: 43.66%, Valid: 41.01% Test: 41.53%\n",
      "Epoch: 13, Loss: 1.3094, Train: 45.13%, Valid: 43.63% Test: 44.29%\n",
      "Epoch: 14, Loss: 1.2901, Train: 46.08%, Valid: 44.60% Test: 45.04%\n",
      "Epoch: 15, Loss: 1.2761, Train: 46.65%, Valid: 44.95% Test: 45.26%\n",
      "Epoch: 16, Loss: 1.2535, Train: 47.61%, Valid: 45.74% Test: 45.82%\n",
      "Epoch: 17, Loss: 1.2423, Train: 49.25%, Valid: 47.58% Test: 48.08%\n",
      "Epoch: 18, Loss: 1.2217, Train: 51.41%, Valid: 50.24% Test: 51.62%\n",
      "Epoch: 19, Loss: 1.2080, Train: 53.23%, Valid: 52.99% Test: 54.87%\n",
      "Epoch: 20, Loss: 1.1948, Train: 54.70%, Valid: 55.00% Test: 57.05%\n",
      "Epoch: 21, Loss: 1.1830, Train: 55.91%, Valid: 56.51% Test: 58.35%\n",
      "Epoch: 22, Loss: 1.1707, Train: 56.79%, Valid: 57.48% Test: 59.32%\n",
      "Epoch: 23, Loss: 1.1600, Train: 58.11%, Valid: 58.53% Test: 60.13%\n",
      "Epoch: 24, Loss: 1.1560, Train: 59.37%, Valid: 59.53% Test: 60.84%\n",
      "Epoch: 25, Loss: 1.1446, Train: 60.72%, Valid: 60.52% Test: 61.57%\n",
      "Epoch: 26, Loss: 1.1342, Train: 62.12%, Valid: 61.86% Test: 62.27%\n",
      "Epoch: 27, Loss: 1.1289, Train: 63.27%, Valid: 62.98% Test: 62.98%\n",
      "Epoch: 28, Loss: 1.1180, Train: 64.31%, Valid: 64.24% Test: 63.96%\n",
      "Epoch: 29, Loss: 1.1123, Train: 65.44%, Valid: 65.52% Test: 65.23%\n",
      "Epoch: 30, Loss: 1.1039, Train: 66.25%, Valid: 66.73% Test: 66.42%\n",
      "Epoch: 31, Loss: 1.0993, Train: 66.96%, Valid: 67.44% Test: 66.94%\n",
      "Epoch: 32, Loss: 1.0890, Train: 67.35%, Valid: 67.72% Test: 67.04%\n",
      "Epoch: 33, Loss: 1.0906, Train: 67.51%, Valid: 67.72% Test: 66.87%\n",
      "Epoch: 34, Loss: 1.0822, Train: 67.68%, Valid: 67.81% Test: 67.10%\n",
      "Epoch: 35, Loss: 1.0751, Train: 67.91%, Valid: 67.91% Test: 67.21%\n",
      "Epoch: 36, Loss: 1.0716, Train: 68.30%, Valid: 68.07% Test: 67.55%\n",
      "Epoch: 37, Loss: 1.0669, Train: 68.75%, Valid: 68.33% Test: 67.90%\n",
      "Epoch: 38, Loss: 1.0629, Train: 69.09%, Valid: 68.40% Test: 67.84%\n",
      "Epoch: 39, Loss: 1.0577, Train: 69.32%, Valid: 68.37% Test: 67.64%\n",
      "Epoch: 40, Loss: 1.0543, Train: 69.37%, Valid: 68.45% Test: 67.35%\n",
      "Epoch: 41, Loss: 1.0486, Train: 69.46%, Valid: 68.87% Test: 67.74%\n",
      "Epoch: 42, Loss: 1.0456, Train: 69.64%, Valid: 69.02% Test: 67.90%\n",
      "Epoch: 43, Loss: 1.0397, Train: 69.91%, Valid: 69.02% Test: 67.71%\n",
      "Epoch: 44, Loss: 1.0358, Train: 70.15%, Valid: 69.28% Test: 67.80%\n",
      "Epoch: 45, Loss: 1.0335, Train: 70.32%, Valid: 69.65% Test: 68.23%\n",
      "Epoch: 46, Loss: 1.0335, Train: 70.54%, Valid: 69.94% Test: 68.93%\n",
      "Epoch: 47, Loss: 1.0269, Train: 70.63%, Valid: 70.11% Test: 69.30%\n",
      "Epoch: 48, Loss: 1.0231, Train: 70.73%, Valid: 70.26% Test: 69.31%\n",
      "Epoch: 49, Loss: 1.0221, Train: 70.88%, Valid: 70.02% Test: 68.65%\n",
      "Epoch: 50, Loss: 1.0193, Train: 70.87%, Valid: 69.79% Test: 68.07%\n",
      "Epoch: 51, Loss: 1.0165, Train: 70.92%, Valid: 69.93% Test: 68.46%\n",
      "Epoch: 52, Loss: 1.0101, Train: 71.03%, Valid: 70.22% Test: 69.13%\n",
      "Epoch: 53, Loss: 1.0076, Train: 71.23%, Valid: 70.48% Test: 69.34%\n",
      "Epoch: 54, Loss: 1.0069, Train: 71.32%, Valid: 70.24% Test: 68.81%\n",
      "Epoch: 55, Loss: 1.0031, Train: 71.39%, Valid: 70.01% Test: 68.44%\n",
      "Epoch: 56, Loss: 0.9996, Train: 71.48%, Valid: 69.99% Test: 68.27%\n",
      "Epoch: 57, Loss: 1.0007, Train: 71.77%, Valid: 70.56% Test: 69.06%\n",
      "Epoch: 58, Loss: 0.9970, Train: 71.87%, Valid: 70.94% Test: 69.93%\n",
      "Epoch: 59, Loss: 0.9923, Train: 71.99%, Valid: 71.09% Test: 70.19%\n",
      "Epoch: 60, Loss: 0.9910, Train: 72.03%, Valid: 71.03% Test: 69.89%\n",
      "Epoch: 61, Loss: 0.9891, Train: 72.08%, Valid: 70.52% Test: 68.91%\n",
      "Epoch: 62, Loss: 0.9832, Train: 72.02%, Valid: 70.07% Test: 68.18%\n",
      "Epoch: 63, Loss: 0.9843, Train: 72.08%, Valid: 70.47% Test: 68.83%\n",
      "Epoch: 64, Loss: 0.9830, Train: 72.14%, Valid: 70.88% Test: 69.44%\n",
      "Epoch: 65, Loss: 0.9803, Train: 72.14%, Valid: 70.86% Test: 69.48%\n",
      "Epoch: 66, Loss: 0.9799, Train: 72.21%, Valid: 70.83% Test: 69.40%\n",
      "Epoch: 67, Loss: 0.9724, Train: 72.34%, Valid: 71.24% Test: 69.85%\n",
      "Epoch: 68, Loss: 0.9742, Train: 72.35%, Valid: 71.52% Test: 70.61%\n",
      "Epoch: 69, Loss: 0.9722, Train: 72.40%, Valid: 71.64% Test: 70.60%\n",
      "Epoch: 70, Loss: 0.9682, Train: 72.47%, Valid: 71.28% Test: 69.63%\n",
      "Epoch: 71, Loss: 0.9670, Train: 72.45%, Valid: 70.89% Test: 69.00%\n",
      "Epoch: 72, Loss: 0.9634, Train: 72.38%, Valid: 70.78% Test: 69.06%\n",
      "Epoch: 73, Loss: 0.9639, Train: 72.58%, Valid: 71.34% Test: 70.18%\n",
      "Epoch: 74, Loss: 0.9608, Train: 72.74%, Valid: 71.55% Test: 70.58%\n",
      "Epoch: 75, Loss: 0.9601, Train: 72.79%, Valid: 71.55% Test: 70.47%\n",
      "Epoch: 76, Loss: 0.9568, Train: 72.70%, Valid: 71.02% Test: 69.21%\n",
      "Epoch: 77, Loss: 0.9589, Train: 72.51%, Valid: 70.27% Test: 68.21%\n",
      "Epoch: 78, Loss: 0.9588, Train: 72.65%, Valid: 70.71% Test: 68.94%\n",
      "Epoch: 79, Loss: 0.9529, Train: 72.81%, Valid: 71.47% Test: 70.39%\n",
      "Epoch: 80, Loss: 0.9527, Train: 72.92%, Valid: 71.58% Test: 70.50%\n",
      "Epoch: 81, Loss: 0.9502, Train: 73.03%, Valid: 71.60% Test: 70.55%\n",
      "Epoch: 82, Loss: 0.9470, Train: 72.99%, Valid: 71.24% Test: 69.89%\n",
      "Epoch: 83, Loss: 0.9480, Train: 72.87%, Valid: 71.24% Test: 69.90%\n",
      "Epoch: 84, Loss: 0.9442, Train: 72.96%, Valid: 71.27% Test: 69.96%\n",
      "Epoch: 85, Loss: 0.9421, Train: 73.05%, Valid: 71.03% Test: 69.48%\n",
      "Epoch: 86, Loss: 0.9426, Train: 73.17%, Valid: 71.39% Test: 70.07%\n",
      "Epoch: 87, Loss: 0.9402, Train: 73.10%, Valid: 71.73% Test: 70.51%\n",
      "Epoch: 88, Loss: 0.9389, Train: 73.00%, Valid: 71.54% Test: 70.34%\n",
      "Epoch: 89, Loss: 0.9387, Train: 73.04%, Valid: 71.34% Test: 69.93%\n",
      "Epoch: 90, Loss: 0.9325, Train: 73.31%, Valid: 71.78% Test: 70.70%\n",
      "Epoch: 91, Loss: 0.9365, Train: 73.22%, Valid: 71.91% Test: 71.33%\n",
      "Epoch: 92, Loss: 0.9322, Train: 73.18%, Valid: 71.79% Test: 70.96%\n",
      "Epoch: 93, Loss: 0.9321, Train: 73.15%, Valid: 71.58% Test: 70.48%\n",
      "Epoch: 94, Loss: 0.9303, Train: 73.23%, Valid: 71.16% Test: 69.88%\n",
      "Epoch: 95, Loss: 0.9275, Train: 73.33%, Valid: 70.95% Test: 69.56%\n",
      "Epoch: 96, Loss: 0.9268, Train: 73.41%, Valid: 71.18% Test: 69.70%\n",
      "Epoch: 97, Loss: 0.9272, Train: 73.46%, Valid: 71.54% Test: 70.34%\n",
      "Epoch: 98, Loss: 0.9236, Train: 73.41%, Valid: 71.64% Test: 70.73%\n",
      "Epoch: 99, Loss: 0.9222, Train: 73.24%, Valid: 71.52% Test: 71.08%\n",
      "Epoch: 100, Loss: 0.9214, Train: 73.55%, Valid: 72.04% Test: 71.27%\n"
     ]
    }
   ],
   "source": [
    "import copy\n",
    "if 'IS_GRADESCOPE_ENV' not in os.environ:\n",
    "  # reset the parameters to initial random value\n",
    "  model.reset_parameters()\n",
    "\n",
    "  optimizer = torch.optim.Adam(model.parameters(), lr=args['lr'])\n",
    "  loss_fn = F.nll_loss\n",
    "\n",
    "  best_model = None\n",
    "  best_valid_acc = 0\n",
    "\n",
    "  for epoch in range(1, 1 + args[\"epochs\"]):\n",
    "    loss = train(model, data, train_idx, optimizer, loss_fn)\n",
    "    result = test(model, data, split_idx, evaluator)\n",
    "    train_acc, valid_acc, test_acc = result\n",
    "    if valid_acc > best_valid_acc:\n",
    "        best_valid_acc = valid_acc\n",
    "        best_model = copy.deepcopy(model)\n",
    "    print(f'Epoch: {epoch:02d}, '\n",
    "          f'Loss: {loss:.4f}, '\n",
    "          f'Train: {100 * train_acc:.2f}%, '\n",
    "          f'Valid: {100 * valid_acc:.2f}% '\n",
    "          f'Test: {100 * test_acc:.2f}%')"
   ]
  },
  {
   "cell_type": "code",
   "execution_count": null,
   "id": "b6a39d64-8a8e-45c9-a574-35577ed1bc0f",
   "metadata": {},
   "outputs": [],
   "source": []
  }
 ],
 "metadata": {
  "kernelspec": {
   "display_name": "Python 3 (ipykernel)",
   "language": "python",
   "name": "python3"
  },
  "language_info": {
   "codemirror_mode": {
    "name": "ipython",
    "version": 3
   },
   "file_extension": ".py",
   "mimetype": "text/x-python",
   "name": "python",
   "nbconvert_exporter": "python",
   "pygments_lexer": "ipython3",
   "version": "3.10.6"
  },
  "toc-autonumbering": true,
  "toc-showcode": true,
  "toc-showmarkdowntxt": true,
  "toc-showtags": false
 },
 "nbformat": 4,
 "nbformat_minor": 5
}
